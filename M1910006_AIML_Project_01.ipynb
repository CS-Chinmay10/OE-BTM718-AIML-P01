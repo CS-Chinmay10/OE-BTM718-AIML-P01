{
  "nbformat": 4,
  "nbformat_minor": 0,
  "metadata": {
    "colab": {
      "provenance": []
    },
    "kernelspec": {
      "name": "python3",
      "display_name": "Python 3"
    },
    "language_info": {
      "name": "python"
    }
  },
  "cells": [
    {
      "cell_type": "markdown",
      "source": [
        "# **Problem Statement**\n",
        "A series of experiments were carried out at SPCE by a PG student to study rate of crack growth in a standard\n",
        "compact tension specimen of carbon steel, subjected to cyclic loading. Each experiment was conducted\n",
        "with a different combination of specimen thickness, maximum amplitude of load and frequency of loading.\n",
        "The objective of experiment was to study the influence of loading frequency and range of stress intensity\n",
        "factor (ΔK is a parameter which represents crack tip stress field) on the crack growth rate.\n",
        "\n",
        "**Task: -** Given two input values (Frequency and Delta K), predict the crack growth rate (da/dN).\n",
        "\n",
        "Additional info about the input features: -\n",
        "\n",
        "\n",
        "*   ‘da/dN’ : crack growth rate in m/cycle\n",
        "*   ‘Delta K’ : range of stress intensity factor in MPa√m\n",
        "*   ‘Frequency’ : Frequency of loading in Hz (1 Hz, 25 Hz and 50 Hz)"
      ],
      "metadata": {
        "id": "VY7aY7bCFN5M"
      }
    },
    {
      "cell_type": "markdown",
      "source": [
        "# **Solution**\n",
        "\n",
        "### Approach: -\n",
        "\n",
        "\n",
        "\n",
        "1.   Extract the relevant features from the dataset.\n",
        "2.   Dataset visualization\n",
        "3.   Compute correlation coefficients between features and label.\n",
        "4.   Split dataset into train, validation and test set.\n",
        "5.   Feature scaling.\n",
        "6.   Build ML model.\n",
        "7.   Tune the model.\n",
        "8.   Evaluate model performance on test set.\n",
        "9.   Visualization of trained model on the test set.\n",
        "\n"
      ],
      "metadata": {
        "id": "nGza_96TGhGy"
      }
    },
    {
      "cell_type": "code",
      "source": [
        "# Import libraries\n",
        "\n",
        "import pandas as pd\n",
        "import numpy as np\n",
        "import matplotlib.pyplot as plt\n"
      ],
      "metadata": {
        "id": "dM96dWl1dVja"
      },
      "execution_count": 1,
      "outputs": []
    },
    {
      "cell_type": "code",
      "source": [
        "# Reading the csv file.\n",
        "df = pd.read_csv(\"crack-growth.csv\", header=0)"
      ],
      "metadata": {
        "id": "ylumgqHmdpg8"
      },
      "execution_count": 2,
      "outputs": []
    },
    {
      "cell_type": "code",
      "source": [
        "df"
      ],
      "metadata": {
        "colab": {
          "base_uri": "https://localhost:8080/",
          "height": 659
        },
        "id": "xl5UWJyJdwen",
        "outputId": "0c9a5eaa-8da8-42b6-f720-584889a38f2f"
      },
      "execution_count": 3,
      "outputs": [
        {
          "output_type": "execute_result",
          "data": {
            "text/plain": [
              "        Cycle  Crack Size         da/dN    a/W       Date      Time   Pmax  \\\n",
              "0       96460      10.011  1.000000e-07  0.394  27-Dec-19  14:42:02  1.746   \n",
              "1       96512      10.013  1.000000e-07  0.394  27-Dec-19  14:42:03  1.747   \n",
              "2       96616      10.016  2.000000e-07  0.394  27-Dec-19  14:42:05  1.747   \n",
              "3       96720      10.016  2.000000e-07  0.393  27-Dec-19  14:42:07  1.751   \n",
              "4       96824      10.016  2.000000e-07  0.394  27-Dec-19  14:42:09  1.748   \n",
              "...       ...         ...           ...    ...        ...       ...    ...   \n",
              "10401  180739      18.007  1.099500e-03  0.709  16-Jan-20  13:06:21  2.205   \n",
              "10402  180752      18.024  1.031300e-03  0.710  16-Jan-20  13:06:21  2.201   \n",
              "10403  180752      18.024  1.038000e-03  0.710  16-Jan-20  13:06:21  2.201   \n",
              "10404  180765      18.037  1.028100e-03  0.710  16-Jan-20  13:06:22  2.198   \n",
              "10405  180778      18.053  1.049200e-03  0.711  16-Jan-20  13:06:22  2.194   \n",
              "\n",
              "        Pmin  Delta P  R ratio  ...  Frequency  Baseline Pmin  \\\n",
              "0      0.002    1.744    0.001  ...         50              0   \n",
              "1      0.000    1.747    0.000  ...         50              0   \n",
              "2      0.004    1.743    0.002  ...         50              0   \n",
              "3     -0.001    1.752   -0.001  ...         50              0   \n",
              "4      0.004    1.744    0.002  ...         50              0   \n",
              "...      ...      ...      ...  ...        ...            ...   \n",
              "10401  0.042    2.163    0.019  ...         25              0   \n",
              "10402  0.041    2.160    0.019  ...         25              0   \n",
              "10403  0.041    2.160    0.019  ...         25              0   \n",
              "10404  0.048    2.150    0.022  ...         25              0   \n",
              "10405  0.048    2.146    0.022  ...         25              0   \n",
              "\n",
              "       Baseline Delta K   Remarks  1% Sop/Smax  2% Sop/Smax  4% Sop/Smax  \\\n",
              "0                12.664       NaN        0.304        0.474          0.0   \n",
              "1                12.667       NaN        0.297        0.306          0.0   \n",
              "2                12.676       NaN        0.466        0.490          0.0   \n",
              "3                12.666       NaN        0.395        0.431          0.0   \n",
              "4                12.664       NaN        0.472        0.000          0.0   \n",
              "...                 ...       ...          ...          ...          ...   \n",
              "10401            50.480       NaN        0.139        0.000          0.0   \n",
              "10402            50.574       NaN        0.183        0.121          0.0   \n",
              "10403            50.574       NaN        0.183        0.121          0.0   \n",
              "10404            50.655       NaN        0.211        0.150          0.0   \n",
              "10405            50.739       NaN        0.239        0.188          0.0   \n",
              "\n",
              "       1% Delta Keff  2% Delta Keff  4% Delta Keff  \n",
              "0              8.814          6.660         12.664  \n",
              "1              8.900          8.792         12.667  \n",
              "2              6.768          6.460         12.676  \n",
              "3              7.663          7.209         12.666  \n",
              "4              6.693         12.664         12.664  \n",
              "...              ...            ...            ...  \n",
              "10401         43.476         50.480         50.480  \n",
              "10402         41.335         44.436         50.574  \n",
              "10403         41.335         44.436         50.574  \n",
              "10404         39.947         43.074         50.655  \n",
              "10405         38.588         41.184         50.739  \n",
              "\n",
              "[10406 rows x 29 columns]"
            ],
            "text/html": [
              "\n",
              "  <div id=\"df-d154d063-07c7-4b07-ada2-cef557d3cca4\">\n",
              "    <div class=\"colab-df-container\">\n",
              "      <div>\n",
              "<style scoped>\n",
              "    .dataframe tbody tr th:only-of-type {\n",
              "        vertical-align: middle;\n",
              "    }\n",
              "\n",
              "    .dataframe tbody tr th {\n",
              "        vertical-align: top;\n",
              "    }\n",
              "\n",
              "    .dataframe thead th {\n",
              "        text-align: right;\n",
              "    }\n",
              "</style>\n",
              "<table border=\"1\" class=\"dataframe\">\n",
              "  <thead>\n",
              "    <tr style=\"text-align: right;\">\n",
              "      <th></th>\n",
              "      <th>Cycle</th>\n",
              "      <th>Crack Size</th>\n",
              "      <th>da/dN</th>\n",
              "      <th>a/W</th>\n",
              "      <th>Date</th>\n",
              "      <th>Time</th>\n",
              "      <th>Pmax</th>\n",
              "      <th>Pmin</th>\n",
              "      <th>Delta P</th>\n",
              "      <th>R ratio</th>\n",
              "      <th>...</th>\n",
              "      <th>Frequency</th>\n",
              "      <th>Baseline Pmin</th>\n",
              "      <th>Baseline Delta K</th>\n",
              "      <th>Remarks</th>\n",
              "      <th>1% Sop/Smax</th>\n",
              "      <th>2% Sop/Smax</th>\n",
              "      <th>4% Sop/Smax</th>\n",
              "      <th>1% Delta Keff</th>\n",
              "      <th>2% Delta Keff</th>\n",
              "      <th>4% Delta Keff</th>\n",
              "    </tr>\n",
              "  </thead>\n",
              "  <tbody>\n",
              "    <tr>\n",
              "      <th>0</th>\n",
              "      <td>96460</td>\n",
              "      <td>10.011</td>\n",
              "      <td>1.000000e-07</td>\n",
              "      <td>0.394</td>\n",
              "      <td>27-Dec-19</td>\n",
              "      <td>14:42:02</td>\n",
              "      <td>1.746</td>\n",
              "      <td>0.002</td>\n",
              "      <td>1.744</td>\n",
              "      <td>0.001</td>\n",
              "      <td>...</td>\n",
              "      <td>50</td>\n",
              "      <td>0</td>\n",
              "      <td>12.664</td>\n",
              "      <td>NaN</td>\n",
              "      <td>0.304</td>\n",
              "      <td>0.474</td>\n",
              "      <td>0.0</td>\n",
              "      <td>8.814</td>\n",
              "      <td>6.660</td>\n",
              "      <td>12.664</td>\n",
              "    </tr>\n",
              "    <tr>\n",
              "      <th>1</th>\n",
              "      <td>96512</td>\n",
              "      <td>10.013</td>\n",
              "      <td>1.000000e-07</td>\n",
              "      <td>0.394</td>\n",
              "      <td>27-Dec-19</td>\n",
              "      <td>14:42:03</td>\n",
              "      <td>1.747</td>\n",
              "      <td>0.000</td>\n",
              "      <td>1.747</td>\n",
              "      <td>0.000</td>\n",
              "      <td>...</td>\n",
              "      <td>50</td>\n",
              "      <td>0</td>\n",
              "      <td>12.667</td>\n",
              "      <td>NaN</td>\n",
              "      <td>0.297</td>\n",
              "      <td>0.306</td>\n",
              "      <td>0.0</td>\n",
              "      <td>8.900</td>\n",
              "      <td>8.792</td>\n",
              "      <td>12.667</td>\n",
              "    </tr>\n",
              "    <tr>\n",
              "      <th>2</th>\n",
              "      <td>96616</td>\n",
              "      <td>10.016</td>\n",
              "      <td>2.000000e-07</td>\n",
              "      <td>0.394</td>\n",
              "      <td>27-Dec-19</td>\n",
              "      <td>14:42:05</td>\n",
              "      <td>1.747</td>\n",
              "      <td>0.004</td>\n",
              "      <td>1.743</td>\n",
              "      <td>0.002</td>\n",
              "      <td>...</td>\n",
              "      <td>50</td>\n",
              "      <td>0</td>\n",
              "      <td>12.676</td>\n",
              "      <td>NaN</td>\n",
              "      <td>0.466</td>\n",
              "      <td>0.490</td>\n",
              "      <td>0.0</td>\n",
              "      <td>6.768</td>\n",
              "      <td>6.460</td>\n",
              "      <td>12.676</td>\n",
              "    </tr>\n",
              "    <tr>\n",
              "      <th>3</th>\n",
              "      <td>96720</td>\n",
              "      <td>10.016</td>\n",
              "      <td>2.000000e-07</td>\n",
              "      <td>0.393</td>\n",
              "      <td>27-Dec-19</td>\n",
              "      <td>14:42:07</td>\n",
              "      <td>1.751</td>\n",
              "      <td>-0.001</td>\n",
              "      <td>1.752</td>\n",
              "      <td>-0.001</td>\n",
              "      <td>...</td>\n",
              "      <td>50</td>\n",
              "      <td>0</td>\n",
              "      <td>12.666</td>\n",
              "      <td>NaN</td>\n",
              "      <td>0.395</td>\n",
              "      <td>0.431</td>\n",
              "      <td>0.0</td>\n",
              "      <td>7.663</td>\n",
              "      <td>7.209</td>\n",
              "      <td>12.666</td>\n",
              "    </tr>\n",
              "    <tr>\n",
              "      <th>4</th>\n",
              "      <td>96824</td>\n",
              "      <td>10.016</td>\n",
              "      <td>2.000000e-07</td>\n",
              "      <td>0.394</td>\n",
              "      <td>27-Dec-19</td>\n",
              "      <td>14:42:09</td>\n",
              "      <td>1.748</td>\n",
              "      <td>0.004</td>\n",
              "      <td>1.744</td>\n",
              "      <td>0.002</td>\n",
              "      <td>...</td>\n",
              "      <td>50</td>\n",
              "      <td>0</td>\n",
              "      <td>12.664</td>\n",
              "      <td>NaN</td>\n",
              "      <td>0.472</td>\n",
              "      <td>0.000</td>\n",
              "      <td>0.0</td>\n",
              "      <td>6.693</td>\n",
              "      <td>12.664</td>\n",
              "      <td>12.664</td>\n",
              "    </tr>\n",
              "    <tr>\n",
              "      <th>...</th>\n",
              "      <td>...</td>\n",
              "      <td>...</td>\n",
              "      <td>...</td>\n",
              "      <td>...</td>\n",
              "      <td>...</td>\n",
              "      <td>...</td>\n",
              "      <td>...</td>\n",
              "      <td>...</td>\n",
              "      <td>...</td>\n",
              "      <td>...</td>\n",
              "      <td>...</td>\n",
              "      <td>...</td>\n",
              "      <td>...</td>\n",
              "      <td>...</td>\n",
              "      <td>...</td>\n",
              "      <td>...</td>\n",
              "      <td>...</td>\n",
              "      <td>...</td>\n",
              "      <td>...</td>\n",
              "      <td>...</td>\n",
              "      <td>...</td>\n",
              "    </tr>\n",
              "    <tr>\n",
              "      <th>10401</th>\n",
              "      <td>180739</td>\n",
              "      <td>18.007</td>\n",
              "      <td>1.099500e-03</td>\n",
              "      <td>0.709</td>\n",
              "      <td>16-Jan-20</td>\n",
              "      <td>13:06:21</td>\n",
              "      <td>2.205</td>\n",
              "      <td>0.042</td>\n",
              "      <td>2.163</td>\n",
              "      <td>0.019</td>\n",
              "      <td>...</td>\n",
              "      <td>25</td>\n",
              "      <td>0</td>\n",
              "      <td>50.480</td>\n",
              "      <td>NaN</td>\n",
              "      <td>0.139</td>\n",
              "      <td>0.000</td>\n",
              "      <td>0.0</td>\n",
              "      <td>43.476</td>\n",
              "      <td>50.480</td>\n",
              "      <td>50.480</td>\n",
              "    </tr>\n",
              "    <tr>\n",
              "      <th>10402</th>\n",
              "      <td>180752</td>\n",
              "      <td>18.024</td>\n",
              "      <td>1.031300e-03</td>\n",
              "      <td>0.710</td>\n",
              "      <td>16-Jan-20</td>\n",
              "      <td>13:06:21</td>\n",
              "      <td>2.201</td>\n",
              "      <td>0.041</td>\n",
              "      <td>2.160</td>\n",
              "      <td>0.019</td>\n",
              "      <td>...</td>\n",
              "      <td>25</td>\n",
              "      <td>0</td>\n",
              "      <td>50.574</td>\n",
              "      <td>NaN</td>\n",
              "      <td>0.183</td>\n",
              "      <td>0.121</td>\n",
              "      <td>0.0</td>\n",
              "      <td>41.335</td>\n",
              "      <td>44.436</td>\n",
              "      <td>50.574</td>\n",
              "    </tr>\n",
              "    <tr>\n",
              "      <th>10403</th>\n",
              "      <td>180752</td>\n",
              "      <td>18.024</td>\n",
              "      <td>1.038000e-03</td>\n",
              "      <td>0.710</td>\n",
              "      <td>16-Jan-20</td>\n",
              "      <td>13:06:21</td>\n",
              "      <td>2.201</td>\n",
              "      <td>0.041</td>\n",
              "      <td>2.160</td>\n",
              "      <td>0.019</td>\n",
              "      <td>...</td>\n",
              "      <td>25</td>\n",
              "      <td>0</td>\n",
              "      <td>50.574</td>\n",
              "      <td>NaN</td>\n",
              "      <td>0.183</td>\n",
              "      <td>0.121</td>\n",
              "      <td>0.0</td>\n",
              "      <td>41.335</td>\n",
              "      <td>44.436</td>\n",
              "      <td>50.574</td>\n",
              "    </tr>\n",
              "    <tr>\n",
              "      <th>10404</th>\n",
              "      <td>180765</td>\n",
              "      <td>18.037</td>\n",
              "      <td>1.028100e-03</td>\n",
              "      <td>0.710</td>\n",
              "      <td>16-Jan-20</td>\n",
              "      <td>13:06:22</td>\n",
              "      <td>2.198</td>\n",
              "      <td>0.048</td>\n",
              "      <td>2.150</td>\n",
              "      <td>0.022</td>\n",
              "      <td>...</td>\n",
              "      <td>25</td>\n",
              "      <td>0</td>\n",
              "      <td>50.655</td>\n",
              "      <td>NaN</td>\n",
              "      <td>0.211</td>\n",
              "      <td>0.150</td>\n",
              "      <td>0.0</td>\n",
              "      <td>39.947</td>\n",
              "      <td>43.074</td>\n",
              "      <td>50.655</td>\n",
              "    </tr>\n",
              "    <tr>\n",
              "      <th>10405</th>\n",
              "      <td>180778</td>\n",
              "      <td>18.053</td>\n",
              "      <td>1.049200e-03</td>\n",
              "      <td>0.711</td>\n",
              "      <td>16-Jan-20</td>\n",
              "      <td>13:06:22</td>\n",
              "      <td>2.194</td>\n",
              "      <td>0.048</td>\n",
              "      <td>2.146</td>\n",
              "      <td>0.022</td>\n",
              "      <td>...</td>\n",
              "      <td>25</td>\n",
              "      <td>0</td>\n",
              "      <td>50.739</td>\n",
              "      <td>NaN</td>\n",
              "      <td>0.239</td>\n",
              "      <td>0.188</td>\n",
              "      <td>0.0</td>\n",
              "      <td>38.588</td>\n",
              "      <td>41.184</td>\n",
              "      <td>50.739</td>\n",
              "    </tr>\n",
              "  </tbody>\n",
              "</table>\n",
              "<p>10406 rows × 29 columns</p>\n",
              "</div>\n",
              "      <button class=\"colab-df-convert\" onclick=\"convertToInteractive('df-d154d063-07c7-4b07-ada2-cef557d3cca4')\"\n",
              "              title=\"Convert this dataframe to an interactive table.\"\n",
              "              style=\"display:none;\">\n",
              "        \n",
              "  <svg xmlns=\"http://www.w3.org/2000/svg\" height=\"24px\"viewBox=\"0 0 24 24\"\n",
              "       width=\"24px\">\n",
              "    <path d=\"M0 0h24v24H0V0z\" fill=\"none\"/>\n",
              "    <path d=\"M18.56 5.44l.94 2.06.94-2.06 2.06-.94-2.06-.94-.94-2.06-.94 2.06-2.06.94zm-11 1L8.5 8.5l.94-2.06 2.06-.94-2.06-.94L8.5 2.5l-.94 2.06-2.06.94zm10 10l.94 2.06.94-2.06 2.06-.94-2.06-.94-.94-2.06-.94 2.06-2.06.94z\"/><path d=\"M17.41 7.96l-1.37-1.37c-.4-.4-.92-.59-1.43-.59-.52 0-1.04.2-1.43.59L10.3 9.45l-7.72 7.72c-.78.78-.78 2.05 0 2.83L4 21.41c.39.39.9.59 1.41.59.51 0 1.02-.2 1.41-.59l7.78-7.78 2.81-2.81c.8-.78.8-2.07 0-2.86zM5.41 20L4 18.59l7.72-7.72 1.47 1.35L5.41 20z\"/>\n",
              "  </svg>\n",
              "      </button>\n",
              "      \n",
              "  <style>\n",
              "    .colab-df-container {\n",
              "      display:flex;\n",
              "      flex-wrap:wrap;\n",
              "      gap: 12px;\n",
              "    }\n",
              "\n",
              "    .colab-df-convert {\n",
              "      background-color: #E8F0FE;\n",
              "      border: none;\n",
              "      border-radius: 50%;\n",
              "      cursor: pointer;\n",
              "      display: none;\n",
              "      fill: #1967D2;\n",
              "      height: 32px;\n",
              "      padding: 0 0 0 0;\n",
              "      width: 32px;\n",
              "    }\n",
              "\n",
              "    .colab-df-convert:hover {\n",
              "      background-color: #E2EBFA;\n",
              "      box-shadow: 0px 1px 2px rgba(60, 64, 67, 0.3), 0px 1px 3px 1px rgba(60, 64, 67, 0.15);\n",
              "      fill: #174EA6;\n",
              "    }\n",
              "\n",
              "    [theme=dark] .colab-df-convert {\n",
              "      background-color: #3B4455;\n",
              "      fill: #D2E3FC;\n",
              "    }\n",
              "\n",
              "    [theme=dark] .colab-df-convert:hover {\n",
              "      background-color: #434B5C;\n",
              "      box-shadow: 0px 1px 3px 1px rgba(0, 0, 0, 0.15);\n",
              "      filter: drop-shadow(0px 1px 2px rgba(0, 0, 0, 0.3));\n",
              "      fill: #FFFFFF;\n",
              "    }\n",
              "  </style>\n",
              "\n",
              "      <script>\n",
              "        const buttonEl =\n",
              "          document.querySelector('#df-d154d063-07c7-4b07-ada2-cef557d3cca4 button.colab-df-convert');\n",
              "        buttonEl.style.display =\n",
              "          google.colab.kernel.accessAllowed ? 'block' : 'none';\n",
              "\n",
              "        async function convertToInteractive(key) {\n",
              "          const element = document.querySelector('#df-d154d063-07c7-4b07-ada2-cef557d3cca4');\n",
              "          const dataTable =\n",
              "            await google.colab.kernel.invokeFunction('convertToInteractive',\n",
              "                                                     [key], {});\n",
              "          if (!dataTable) return;\n",
              "\n",
              "          const docLinkHtml = 'Like what you see? Visit the ' +\n",
              "            '<a target=\"_blank\" href=https://colab.research.google.com/notebooks/data_table.ipynb>data table notebook</a>'\n",
              "            + ' to learn more about interactive tables.';\n",
              "          element.innerHTML = '';\n",
              "          dataTable['output_type'] = 'display_data';\n",
              "          await google.colab.output.renderOutput(dataTable, element);\n",
              "          const docLink = document.createElement('div');\n",
              "          docLink.innerHTML = docLinkHtml;\n",
              "          element.appendChild(docLink);\n",
              "        }\n",
              "      </script>\n",
              "    </div>\n",
              "  </div>\n",
              "  "
            ]
          },
          "metadata": {},
          "execution_count": 3
        }
      ]
    },
    {
      "cell_type": "markdown",
      "source": [
        "## Extracting features"
      ],
      "metadata": {
        "id": "c91mP9SPFMXc"
      }
    },
    {
      "cell_type": "code",
      "source": [
        "print(df.columns)"
      ],
      "metadata": {
        "colab": {
          "base_uri": "https://localhost:8080/"
        },
        "outputId": "cab57b8a-7a01-4fdc-9532-5f7f156da8bb",
        "id": "TKWbI4YgHl_W"
      },
      "execution_count": 4,
      "outputs": [
        {
          "output_type": "stream",
          "name": "stdout",
          "text": [
            "Index(['Cycle', 'Crack Size', 'da/dN', 'a/W', 'Date', 'Time', 'Pmax', 'Pmin',\n",
            "       'Delta P', 'R ratio', 'Kmax', 'Kmin', 'Delta K', 'Compliance',\n",
            "       'COD max', 'COD min', 'SP-Pmax', 'SP-Pmin', 'Step', 'Frequency',\n",
            "       'Baseline Pmin', 'Baseline Delta K', ' Remarks', '1% Sop/Smax',\n",
            "       '2% Sop/Smax', '4% Sop/Smax', '1% Delta Keff', '2% Delta Keff',\n",
            "       '4% Delta Keff'],\n",
            "      dtype='object')\n"
          ]
        }
      ]
    },
    {
      "cell_type": "code",
      "source": [
        "# Output label\n",
        "y = df.loc[:,\"da/dN\"]\n",
        "y.describe()"
      ],
      "metadata": {
        "colab": {
          "base_uri": "https://localhost:8080/"
        },
        "id": "PGp677YYdyLU",
        "outputId": "800714f0-0c12-4613-fa77-839727aa99cb"
      },
      "execution_count": 5,
      "outputs": [
        {
          "output_type": "execute_result",
          "data": {
            "text/plain": [
              "count    10406.000000\n",
              "mean         0.000555\n",
              "std          0.000903\n",
              "min          0.000000\n",
              "25%          0.000016\n",
              "50%          0.000136\n",
              "75%          0.000714\n",
              "max          0.008148\n",
              "Name: da/dN, dtype: float64"
            ]
          },
          "metadata": {},
          "execution_count": 5
        }
      ]
    },
    {
      "cell_type": "code",
      "source": [
        "# Input features - Delta K and Frequency\n",
        "X = df.loc[:,[\"Delta K\", \"Frequency\"]]\n",
        "X.describe()"
      ],
      "metadata": {
        "id": "EfpAR6K3e4EO",
        "colab": {
          "base_uri": "https://localhost:8080/",
          "height": 300
        },
        "outputId": "c0a603ed-ef12-4b3f-f41e-328e29ecbc3e"
      },
      "execution_count": 6,
      "outputs": [
        {
          "output_type": "execute_result",
          "data": {
            "text/plain": [
              "            Delta K     Frequency\n",
              "count  10406.000000  10406.000000\n",
              "mean      31.296116     22.729387\n",
              "std       15.164980     21.326329\n",
              "min       12.627000      1.000000\n",
              "25%       16.955500      1.000000\n",
              "50%       27.018500     25.000000\n",
              "75%       43.760000     50.000000\n",
              "max       68.734000     50.000000"
            ],
            "text/html": [
              "\n",
              "  <div id=\"df-6965fc33-56e0-446f-9db2-524c0bdc2391\">\n",
              "    <div class=\"colab-df-container\">\n",
              "      <div>\n",
              "<style scoped>\n",
              "    .dataframe tbody tr th:only-of-type {\n",
              "        vertical-align: middle;\n",
              "    }\n",
              "\n",
              "    .dataframe tbody tr th {\n",
              "        vertical-align: top;\n",
              "    }\n",
              "\n",
              "    .dataframe thead th {\n",
              "        text-align: right;\n",
              "    }\n",
              "</style>\n",
              "<table border=\"1\" class=\"dataframe\">\n",
              "  <thead>\n",
              "    <tr style=\"text-align: right;\">\n",
              "      <th></th>\n",
              "      <th>Delta K</th>\n",
              "      <th>Frequency</th>\n",
              "    </tr>\n",
              "  </thead>\n",
              "  <tbody>\n",
              "    <tr>\n",
              "      <th>count</th>\n",
              "      <td>10406.000000</td>\n",
              "      <td>10406.000000</td>\n",
              "    </tr>\n",
              "    <tr>\n",
              "      <th>mean</th>\n",
              "      <td>31.296116</td>\n",
              "      <td>22.729387</td>\n",
              "    </tr>\n",
              "    <tr>\n",
              "      <th>std</th>\n",
              "      <td>15.164980</td>\n",
              "      <td>21.326329</td>\n",
              "    </tr>\n",
              "    <tr>\n",
              "      <th>min</th>\n",
              "      <td>12.627000</td>\n",
              "      <td>1.000000</td>\n",
              "    </tr>\n",
              "    <tr>\n",
              "      <th>25%</th>\n",
              "      <td>16.955500</td>\n",
              "      <td>1.000000</td>\n",
              "    </tr>\n",
              "    <tr>\n",
              "      <th>50%</th>\n",
              "      <td>27.018500</td>\n",
              "      <td>25.000000</td>\n",
              "    </tr>\n",
              "    <tr>\n",
              "      <th>75%</th>\n",
              "      <td>43.760000</td>\n",
              "      <td>50.000000</td>\n",
              "    </tr>\n",
              "    <tr>\n",
              "      <th>max</th>\n",
              "      <td>68.734000</td>\n",
              "      <td>50.000000</td>\n",
              "    </tr>\n",
              "  </tbody>\n",
              "</table>\n",
              "</div>\n",
              "      <button class=\"colab-df-convert\" onclick=\"convertToInteractive('df-6965fc33-56e0-446f-9db2-524c0bdc2391')\"\n",
              "              title=\"Convert this dataframe to an interactive table.\"\n",
              "              style=\"display:none;\">\n",
              "        \n",
              "  <svg xmlns=\"http://www.w3.org/2000/svg\" height=\"24px\"viewBox=\"0 0 24 24\"\n",
              "       width=\"24px\">\n",
              "    <path d=\"M0 0h24v24H0V0z\" fill=\"none\"/>\n",
              "    <path d=\"M18.56 5.44l.94 2.06.94-2.06 2.06-.94-2.06-.94-.94-2.06-.94 2.06-2.06.94zm-11 1L8.5 8.5l.94-2.06 2.06-.94-2.06-.94L8.5 2.5l-.94 2.06-2.06.94zm10 10l.94 2.06.94-2.06 2.06-.94-2.06-.94-.94-2.06-.94 2.06-2.06.94z\"/><path d=\"M17.41 7.96l-1.37-1.37c-.4-.4-.92-.59-1.43-.59-.52 0-1.04.2-1.43.59L10.3 9.45l-7.72 7.72c-.78.78-.78 2.05 0 2.83L4 21.41c.39.39.9.59 1.41.59.51 0 1.02-.2 1.41-.59l7.78-7.78 2.81-2.81c.8-.78.8-2.07 0-2.86zM5.41 20L4 18.59l7.72-7.72 1.47 1.35L5.41 20z\"/>\n",
              "  </svg>\n",
              "      </button>\n",
              "      \n",
              "  <style>\n",
              "    .colab-df-container {\n",
              "      display:flex;\n",
              "      flex-wrap:wrap;\n",
              "      gap: 12px;\n",
              "    }\n",
              "\n",
              "    .colab-df-convert {\n",
              "      background-color: #E8F0FE;\n",
              "      border: none;\n",
              "      border-radius: 50%;\n",
              "      cursor: pointer;\n",
              "      display: none;\n",
              "      fill: #1967D2;\n",
              "      height: 32px;\n",
              "      padding: 0 0 0 0;\n",
              "      width: 32px;\n",
              "    }\n",
              "\n",
              "    .colab-df-convert:hover {\n",
              "      background-color: #E2EBFA;\n",
              "      box-shadow: 0px 1px 2px rgba(60, 64, 67, 0.3), 0px 1px 3px 1px rgba(60, 64, 67, 0.15);\n",
              "      fill: #174EA6;\n",
              "    }\n",
              "\n",
              "    [theme=dark] .colab-df-convert {\n",
              "      background-color: #3B4455;\n",
              "      fill: #D2E3FC;\n",
              "    }\n",
              "\n",
              "    [theme=dark] .colab-df-convert:hover {\n",
              "      background-color: #434B5C;\n",
              "      box-shadow: 0px 1px 3px 1px rgba(0, 0, 0, 0.15);\n",
              "      filter: drop-shadow(0px 1px 2px rgba(0, 0, 0, 0.3));\n",
              "      fill: #FFFFFF;\n",
              "    }\n",
              "  </style>\n",
              "\n",
              "      <script>\n",
              "        const buttonEl =\n",
              "          document.querySelector('#df-6965fc33-56e0-446f-9db2-524c0bdc2391 button.colab-df-convert');\n",
              "        buttonEl.style.display =\n",
              "          google.colab.kernel.accessAllowed ? 'block' : 'none';\n",
              "\n",
              "        async function convertToInteractive(key) {\n",
              "          const element = document.querySelector('#df-6965fc33-56e0-446f-9db2-524c0bdc2391');\n",
              "          const dataTable =\n",
              "            await google.colab.kernel.invokeFunction('convertToInteractive',\n",
              "                                                     [key], {});\n",
              "          if (!dataTable) return;\n",
              "\n",
              "          const docLinkHtml = 'Like what you see? Visit the ' +\n",
              "            '<a target=\"_blank\" href=https://colab.research.google.com/notebooks/data_table.ipynb>data table notebook</a>'\n",
              "            + ' to learn more about interactive tables.';\n",
              "          element.innerHTML = '';\n",
              "          dataTable['output_type'] = 'display_data';\n",
              "          await google.colab.output.renderOutput(dataTable, element);\n",
              "          const docLink = document.createElement('div');\n",
              "          docLink.innerHTML = docLinkHtml;\n",
              "          element.appendChild(docLink);\n",
              "        }\n",
              "      </script>\n",
              "    </div>\n",
              "  </div>\n",
              "  "
            ]
          },
          "metadata": {},
          "execution_count": 6
        }
      ]
    },
    {
      "cell_type": "code",
      "source": [
        "X.head()"
      ],
      "metadata": {
        "colab": {
          "base_uri": "https://localhost:8080/",
          "height": 206
        },
        "id": "I-tiZ5XJfPt7",
        "outputId": "51a15616-1436-4c8c-ce3b-ea8e6e8dfd58"
      },
      "execution_count": 7,
      "outputs": [
        {
          "output_type": "execute_result",
          "data": {
            "text/plain": [
              "   Delta K  Frequency\n",
              "0   12.652         50\n",
              "1   12.664         50\n",
              "2   12.646         50\n",
              "3   12.666         50\n",
              "4   12.634         50"
            ],
            "text/html": [
              "\n",
              "  <div id=\"df-7ac3774f-b6f9-4bd8-ac65-7280fe19a30b\">\n",
              "    <div class=\"colab-df-container\">\n",
              "      <div>\n",
              "<style scoped>\n",
              "    .dataframe tbody tr th:only-of-type {\n",
              "        vertical-align: middle;\n",
              "    }\n",
              "\n",
              "    .dataframe tbody tr th {\n",
              "        vertical-align: top;\n",
              "    }\n",
              "\n",
              "    .dataframe thead th {\n",
              "        text-align: right;\n",
              "    }\n",
              "</style>\n",
              "<table border=\"1\" class=\"dataframe\">\n",
              "  <thead>\n",
              "    <tr style=\"text-align: right;\">\n",
              "      <th></th>\n",
              "      <th>Delta K</th>\n",
              "      <th>Frequency</th>\n",
              "    </tr>\n",
              "  </thead>\n",
              "  <tbody>\n",
              "    <tr>\n",
              "      <th>0</th>\n",
              "      <td>12.652</td>\n",
              "      <td>50</td>\n",
              "    </tr>\n",
              "    <tr>\n",
              "      <th>1</th>\n",
              "      <td>12.664</td>\n",
              "      <td>50</td>\n",
              "    </tr>\n",
              "    <tr>\n",
              "      <th>2</th>\n",
              "      <td>12.646</td>\n",
              "      <td>50</td>\n",
              "    </tr>\n",
              "    <tr>\n",
              "      <th>3</th>\n",
              "      <td>12.666</td>\n",
              "      <td>50</td>\n",
              "    </tr>\n",
              "    <tr>\n",
              "      <th>4</th>\n",
              "      <td>12.634</td>\n",
              "      <td>50</td>\n",
              "    </tr>\n",
              "  </tbody>\n",
              "</table>\n",
              "</div>\n",
              "      <button class=\"colab-df-convert\" onclick=\"convertToInteractive('df-7ac3774f-b6f9-4bd8-ac65-7280fe19a30b')\"\n",
              "              title=\"Convert this dataframe to an interactive table.\"\n",
              "              style=\"display:none;\">\n",
              "        \n",
              "  <svg xmlns=\"http://www.w3.org/2000/svg\" height=\"24px\"viewBox=\"0 0 24 24\"\n",
              "       width=\"24px\">\n",
              "    <path d=\"M0 0h24v24H0V0z\" fill=\"none\"/>\n",
              "    <path d=\"M18.56 5.44l.94 2.06.94-2.06 2.06-.94-2.06-.94-.94-2.06-.94 2.06-2.06.94zm-11 1L8.5 8.5l.94-2.06 2.06-.94-2.06-.94L8.5 2.5l-.94 2.06-2.06.94zm10 10l.94 2.06.94-2.06 2.06-.94-2.06-.94-.94-2.06-.94 2.06-2.06.94z\"/><path d=\"M17.41 7.96l-1.37-1.37c-.4-.4-.92-.59-1.43-.59-.52 0-1.04.2-1.43.59L10.3 9.45l-7.72 7.72c-.78.78-.78 2.05 0 2.83L4 21.41c.39.39.9.59 1.41.59.51 0 1.02-.2 1.41-.59l7.78-7.78 2.81-2.81c.8-.78.8-2.07 0-2.86zM5.41 20L4 18.59l7.72-7.72 1.47 1.35L5.41 20z\"/>\n",
              "  </svg>\n",
              "      </button>\n",
              "      \n",
              "  <style>\n",
              "    .colab-df-container {\n",
              "      display:flex;\n",
              "      flex-wrap:wrap;\n",
              "      gap: 12px;\n",
              "    }\n",
              "\n",
              "    .colab-df-convert {\n",
              "      background-color: #E8F0FE;\n",
              "      border: none;\n",
              "      border-radius: 50%;\n",
              "      cursor: pointer;\n",
              "      display: none;\n",
              "      fill: #1967D2;\n",
              "      height: 32px;\n",
              "      padding: 0 0 0 0;\n",
              "      width: 32px;\n",
              "    }\n",
              "\n",
              "    .colab-df-convert:hover {\n",
              "      background-color: #E2EBFA;\n",
              "      box-shadow: 0px 1px 2px rgba(60, 64, 67, 0.3), 0px 1px 3px 1px rgba(60, 64, 67, 0.15);\n",
              "      fill: #174EA6;\n",
              "    }\n",
              "\n",
              "    [theme=dark] .colab-df-convert {\n",
              "      background-color: #3B4455;\n",
              "      fill: #D2E3FC;\n",
              "    }\n",
              "\n",
              "    [theme=dark] .colab-df-convert:hover {\n",
              "      background-color: #434B5C;\n",
              "      box-shadow: 0px 1px 3px 1px rgba(0, 0, 0, 0.15);\n",
              "      filter: drop-shadow(0px 1px 2px rgba(0, 0, 0, 0.3));\n",
              "      fill: #FFFFFF;\n",
              "    }\n",
              "  </style>\n",
              "\n",
              "      <script>\n",
              "        const buttonEl =\n",
              "          document.querySelector('#df-7ac3774f-b6f9-4bd8-ac65-7280fe19a30b button.colab-df-convert');\n",
              "        buttonEl.style.display =\n",
              "          google.colab.kernel.accessAllowed ? 'block' : 'none';\n",
              "\n",
              "        async function convertToInteractive(key) {\n",
              "          const element = document.querySelector('#df-7ac3774f-b6f9-4bd8-ac65-7280fe19a30b');\n",
              "          const dataTable =\n",
              "            await google.colab.kernel.invokeFunction('convertToInteractive',\n",
              "                                                     [key], {});\n",
              "          if (!dataTable) return;\n",
              "\n",
              "          const docLinkHtml = 'Like what you see? Visit the ' +\n",
              "            '<a target=\"_blank\" href=https://colab.research.google.com/notebooks/data_table.ipynb>data table notebook</a>'\n",
              "            + ' to learn more about interactive tables.';\n",
              "          element.innerHTML = '';\n",
              "          dataTable['output_type'] = 'display_data';\n",
              "          await google.colab.output.renderOutput(dataTable, element);\n",
              "          const docLink = document.createElement('div');\n",
              "          docLink.innerHTML = docLinkHtml;\n",
              "          element.appendChild(docLink);\n",
              "        }\n",
              "      </script>\n",
              "    </div>\n",
              "  </div>\n",
              "  "
            ]
          },
          "metadata": {},
          "execution_count": 7
        }
      ]
    },
    {
      "cell_type": "markdown",
      "source": [
        "## Data Visualization"
      ],
      "metadata": {
        "id": "24JyjRfPIRA9"
      }
    },
    {
      "cell_type": "code",
      "source": [
        "fig, axes = plt.subplots(nrows=1, ncols=2)\n",
        "fig.set_figheight(8)\n",
        "fig.set_figwidth(24)\n",
        "axes[0].plot(X.iloc[:,0], label=\"Delta K\")\n",
        "axes[0].plot(X.iloc[:,1], label=\"Frequency\")\n",
        "axes[0].set_title(\"Input feature set\", fontdict={\"fontsize\":\"xx-large\"})\n",
        "axes[0].set_facecolor(\"#F5F5F5\")\n",
        "axes[0].legend(fontsize=\"x-large\", facecolor=\"#D3D3D3\", handleheight=1.0)\n",
        "\n",
        "axes[1].plot(y, label=\"da/dN\", c=\"g\")\n",
        "axes[1].set_title(\"Crack Growth Rate (Label)\", fontdict={\"fontsize\":\"xx-large\"})\n",
        "axes[1].set_facecolor(\"#F5F5F5\")\n",
        "axes[1].legend(fontsize=\"x-large\", facecolor=\"#D3D3D3\")"
      ],
      "metadata": {
        "colab": {
          "base_uri": "https://localhost:8080/",
          "height": 520
        },
        "id": "wjDbOi7kItEU",
        "outputId": "4e1b30a1-a762-498e-d195-57375abb16b8"
      },
      "execution_count": 8,
      "outputs": [
        {
          "output_type": "execute_result",
          "data": {
            "text/plain": [
              "<matplotlib.legend.Legend at 0x7f0823065190>"
            ]
          },
          "metadata": {},
          "execution_count": 8
        },
        {
          "output_type": "display_data",
          "data": {
            "text/plain": [
              "<Figure size 1728x576 with 2 Axes>"
            ],
            "image/png": "[encoded data removed]"
          },
          "metadata": {
            "needs_background": "light"
          }
        }
      ]
    },
    {
      "cell_type": "code",
      "source": [],
      "metadata": {
        "id": "A1zao0KHgEt7"
      },
      "execution_count": 8,
      "outputs": []
    },
    {
      "cell_type": "markdown",
      "source": [
        "## Correlation between the feature and label"
      ],
      "metadata": {
        "id": "cw7wr7bnLnM-"
      }
    },
    {
      "cell_type": "markdown",
      "source": [
        "Using Spearman correlation coefficient to see how the features relate to the label. Spearman's rank correlation coefficient assesses the relationship between two variables using a monotonic function (whether linear or not).\n",
        "\n",
        "[Wikipedia article on Spearman Rank Correlation coefficient](https://en.wikipedia.org/wiki/Spearman%27s_rank_correlation_coefficient)"
      ],
      "metadata": {
        "id": "PzmQw0kRNJqC"
      }
    },
    {
      "cell_type": "code",
      "source": [
        "corr = df.loc[:,[\"Delta K\", \"Frequency\", \"da/dN\"]].corr(method=\"spearman\")\n",
        "corr.style.background_gradient(cmap=\"coolwarm\")"
      ],
      "metadata": {
        "colab": {
          "base_uri": "https://localhost:8080/",
          "height": 143
        },
        "id": "DYpgc2WLLme9",
        "outputId": "31448188-c18e-473f-cedd-b5ed3350a223"
      },
      "execution_count": 9,
      "outputs": [
        {
          "output_type": "execute_result",
          "data": {
            "text/plain": [
              "<pandas.io.formats.style.Styler at 0x7f0823072290>"
            ],
            "text/html": [
              "<style type=\"text/css\">\n",
              "#T_9d332_row0_col0, #T_9d332_row1_col1, #T_9d332_row2_col2 {\n",
              "  background-color: #b40426;\n",
              "  color: #f1f1f1;\n",
              "}\n",
              "#T_9d332_row0_col1, #T_9d332_row1_col0, #T_9d332_row1_col2 {\n",
              "  background-color: #3b4cc0;\n",
              "  color: #f1f1f1;\n",
              "}\n",
              "#T_9d332_row0_col2, #T_9d332_row2_col0 {\n",
              "  background-color: #b8122a;\n",
              "  color: #f1f1f1;\n",
              "}\n",
              "#T_9d332_row2_col1 {\n",
              "  background-color: #4257c9;\n",
              "  color: #f1f1f1;\n",
              "}\n",
              "</style>\n",
              "<table id=\"T_9d332_\" class=\"dataframe\">\n",
              "  <thead>\n",
              "    <tr>\n",
              "      <th class=\"blank level0\" >&nbsp;</th>\n",
              "      <th class=\"col_heading level0 col0\" >Delta K</th>\n",
              "      <th class=\"col_heading level0 col1\" >Frequency</th>\n",
              "      <th class=\"col_heading level0 col2\" >da/dN</th>\n",
              "    </tr>\n",
              "  </thead>\n",
              "  <tbody>\n",
              "    <tr>\n",
              "      <th id=\"T_9d332_level0_row0\" class=\"row_heading level0 row0\" >Delta K</th>\n",
              "      <td id=\"T_9d332_row0_col0\" class=\"data row0 col0\" >1.000000</td>\n",
              "      <td id=\"T_9d332_row0_col1\" class=\"data row0 col1\" >-0.859146</td>\n",
              "      <td id=\"T_9d332_row0_col2\" class=\"data row0 col2\" >0.972355</td>\n",
              "    </tr>\n",
              "    <tr>\n",
              "      <th id=\"T_9d332_level0_row1\" class=\"row_heading level0 row1\" >Frequency</th>\n",
              "      <td id=\"T_9d332_row1_col0\" class=\"data row1 col0\" >-0.859146</td>\n",
              "      <td id=\"T_9d332_row1_col1\" class=\"data row1 col1\" >1.000000</td>\n",
              "      <td id=\"T_9d332_row1_col2\" class=\"data row1 col2\" >-0.811068</td>\n",
              "    </tr>\n",
              "    <tr>\n",
              "      <th id=\"T_9d332_level0_row2\" class=\"row_heading level0 row2\" >da/dN</th>\n",
              "      <td id=\"T_9d332_row2_col0\" class=\"data row2 col0\" >0.972355</td>\n",
              "      <td id=\"T_9d332_row2_col1\" class=\"data row2 col1\" >-0.811068</td>\n",
              "      <td id=\"T_9d332_row2_col2\" class=\"data row2 col2\" >1.000000</td>\n",
              "    </tr>\n",
              "  </tbody>\n",
              "</table>\n"
            ]
          },
          "metadata": {},
          "execution_count": 9
        }
      ]
    },
    {
      "cell_type": "markdown",
      "source": [
        "It can be observed that the feature **\"Delta K\" is strongly related to the output label** (has a rank of +0.972). Here the positive sign indicates that \"da/dN\" increases as \"Delta K\" increases.\n",
        "However, in case of **\"Frequency\" the reverse happens** (-0.811), i.e., \"da/dN\" decreases on increasing the value of \"Frequency\"."
      ],
      "metadata": {
        "id": "NYMqLlR3N3OB"
      }
    },
    {
      "cell_type": "code",
      "source": [],
      "metadata": {
        "id": "tTbfQYwkLmbd"
      },
      "execution_count": 9,
      "outputs": []
    },
    {
      "cell_type": "markdown",
      "source": [
        "##  Building Machine Learning"
      ],
      "metadata": {
        "id": "dVw46WbGle2y"
      }
    },
    {
      "cell_type": "markdown",
      "source": [
        "Looking at the curve of crack growth rate, it can be seen that a polynomial model can be a better fit."
      ],
      "metadata": {
        "id": "FGIILUgdnXz4"
      }
    },
    {
      "cell_type": "markdown",
      "source": [
        "### Splitting dataset"
      ],
      "metadata": {
        "id": "DhV8wsJrnfuF"
      }
    },
    {
      "cell_type": "markdown",
      "source": [
        "Here, I am using the train-validation-test approach. The training set is set to 60% of the entire dataset, while validation and test set are each set to 20%."
      ],
      "metadata": {
        "id": "OxcboBRZTlu0"
      }
    },
    {
      "cell_type": "code",
      "source": [
        "from sklearn.model_selection import train_test_split\n",
        "\n",
        "# Separating remaining data (validation+test) from training data.\n",
        "X_train, X_rem, y_train, y_rem = train_test_split(X, y, train_size= 0.60, random_state=6)\n",
        "\n",
        "# Splitting the remaining data into validation and test set.\n",
        "X_valid, X_test, y_valid, y_test = train_test_split(X_rem, y_rem, test_size=0.50, random_state=6)"
      ],
      "metadata": {
        "id": "f24IGxmudQ26"
      },
      "execution_count": 10,
      "outputs": []
    },
    {
      "cell_type": "code",
      "source": [
        "X_train.describe()"
      ],
      "metadata": {
        "colab": {
          "base_uri": "https://localhost:8080/",
          "height": 300
        },
        "id": "WL3KJNn0n2OC",
        "outputId": "8ac224b8-eeb2-43be-b859-1397b927d93f"
      },
      "execution_count": 11,
      "outputs": [
        {
          "output_type": "execute_result",
          "data": {
            "text/plain": [
              "           Delta K    Frequency\n",
              "count  6243.000000  6243.000000\n",
              "mean     31.168263    22.949223\n",
              "std      15.099273    21.275195\n",
              "min      12.627000     1.000000\n",
              "25%      16.973000     1.000000\n",
              "50%      26.668000    25.000000\n",
              "75%      43.608500    50.000000\n",
              "max      68.447000    50.000000"
            ],
            "text/html": [
              "\n",
              "  <div id=\"df-89573381-e55e-42e6-a5be-75236d98c49a\">\n",
              "    <div class=\"colab-df-container\">\n",
              "      <div>\n",
              "<style scoped>\n",
              "    .dataframe tbody tr th:only-of-type {\n",
              "        vertical-align: middle;\n",
              "    }\n",
              "\n",
              "    .dataframe tbody tr th {\n",
              "        vertical-align: top;\n",
              "    }\n",
              "\n",
              "    .dataframe thead th {\n",
              "        text-align: right;\n",
              "    }\n",
              "</style>\n",
              "<table border=\"1\" class=\"dataframe\">\n",
              "  <thead>\n",
              "    <tr style=\"text-align: right;\">\n",
              "      <th></th>\n",
              "      <th>Delta K</th>\n",
              "      <th>Frequency</th>\n",
              "    </tr>\n",
              "  </thead>\n",
              "  <tbody>\n",
              "    <tr>\n",
              "      <th>count</th>\n",
              "      <td>6243.000000</td>\n",
              "      <td>6243.000000</td>\n",
              "    </tr>\n",
              "    <tr>\n",
              "      <th>mean</th>\n",
              "      <td>31.168263</td>\n",
              "      <td>22.949223</td>\n",
              "    </tr>\n",
              "    <tr>\n",
              "      <th>std</th>\n",
              "      <td>15.099273</td>\n",
              "      <td>21.275195</td>\n",
              "    </tr>\n",
              "    <tr>\n",
              "      <th>min</th>\n",
              "      <td>12.627000</td>\n",
              "      <td>1.000000</td>\n",
              "    </tr>\n",
              "    <tr>\n",
              "      <th>25%</th>\n",
              "      <td>16.973000</td>\n",
              "      <td>1.000000</td>\n",
              "    </tr>\n",
              "    <tr>\n",
              "      <th>50%</th>\n",
              "      <td>26.668000</td>\n",
              "      <td>25.000000</td>\n",
              "    </tr>\n",
              "    <tr>\n",
              "      <th>75%</th>\n",
              "      <td>43.608500</td>\n",
              "      <td>50.000000</td>\n",
              "    </tr>\n",
              "    <tr>\n",
              "      <th>max</th>\n",
              "      <td>68.447000</td>\n",
              "      <td>50.000000</td>\n",
              "    </tr>\n",
              "  </tbody>\n",
              "</table>\n",
              "</div>\n",
              "      <button class=\"colab-df-convert\" onclick=\"convertToInteractive('df-89573381-e55e-42e6-a5be-75236d98c49a')\"\n",
              "              title=\"Convert this dataframe to an interactive table.\"\n",
              "              style=\"display:none;\">\n",
              "        \n",
              "  <svg xmlns=\"http://www.w3.org/2000/svg\" height=\"24px\"viewBox=\"0 0 24 24\"\n",
              "       width=\"24px\">\n",
              "    <path d=\"M0 0h24v24H0V0z\" fill=\"none\"/>\n",
              "    <path d=\"M18.56 5.44l.94 2.06.94-2.06 2.06-.94-2.06-.94-.94-2.06-.94 2.06-2.06.94zm-11 1L8.5 8.5l.94-2.06 2.06-.94-2.06-.94L8.5 2.5l-.94 2.06-2.06.94zm10 10l.94 2.06.94-2.06 2.06-.94-2.06-.94-.94-2.06-.94 2.06-2.06.94z\"/><path d=\"M17.41 7.96l-1.37-1.37c-.4-.4-.92-.59-1.43-.59-.52 0-1.04.2-1.43.59L10.3 9.45l-7.72 7.72c-.78.78-.78 2.05 0 2.83L4 21.41c.39.39.9.59 1.41.59.51 0 1.02-.2 1.41-.59l7.78-7.78 2.81-2.81c.8-.78.8-2.07 0-2.86zM5.41 20L4 18.59l7.72-7.72 1.47 1.35L5.41 20z\"/>\n",
              "  </svg>\n",
              "      </button>\n",
              "      \n",
              "  <style>\n",
              "    .colab-df-container {\n",
              "      display:flex;\n",
              "      flex-wrap:wrap;\n",
              "      gap: 12px;\n",
              "    }\n",
              "\n",
              "    .colab-df-convert {\n",
              "      background-color: #E8F0FE;\n",
              "      border: none;\n",
              "      border-radius: 50%;\n",
              "      cursor: pointer;\n",
              "      display: none;\n",
              "      fill: #1967D2;\n",
              "      height: 32px;\n",
              "      padding: 0 0 0 0;\n",
              "      width: 32px;\n",
              "    }\n",
              "\n",
              "    .colab-df-convert:hover {\n",
              "      background-color: #E2EBFA;\n",
              "      box-shadow: 0px 1px 2px rgba(60, 64, 67, 0.3), 0px 1px 3px 1px rgba(60, 64, 67, 0.15);\n",
              "      fill: #174EA6;\n",
              "    }\n",
              "\n",
              "    [theme=dark] .colab-df-convert {\n",
              "      background-color: #3B4455;\n",
              "      fill: #D2E3FC;\n",
              "    }\n",
              "\n",
              "    [theme=dark] .colab-df-convert:hover {\n",
              "      background-color: #434B5C;\n",
              "      box-shadow: 0px 1px 3px 1px rgba(0, 0, 0, 0.15);\n",
              "      filter: drop-shadow(0px 1px 2px rgba(0, 0, 0, 0.3));\n",
              "      fill: #FFFFFF;\n",
              "    }\n",
              "  </style>\n",
              "\n",
              "      <script>\n",
              "        const buttonEl =\n",
              "          document.querySelector('#df-89573381-e55e-42e6-a5be-75236d98c49a button.colab-df-convert');\n",
              "        buttonEl.style.display =\n",
              "          google.colab.kernel.accessAllowed ? 'block' : 'none';\n",
              "\n",
              "        async function convertToInteractive(key) {\n",
              "          const element = document.querySelector('#df-89573381-e55e-42e6-a5be-75236d98c49a');\n",
              "          const dataTable =\n",
              "            await google.colab.kernel.invokeFunction('convertToInteractive',\n",
              "                                                     [key], {});\n",
              "          if (!dataTable) return;\n",
              "\n",
              "          const docLinkHtml = 'Like what you see? Visit the ' +\n",
              "            '<a target=\"_blank\" href=https://colab.research.google.com/notebooks/data_table.ipynb>data table notebook</a>'\n",
              "            + ' to learn more about interactive tables.';\n",
              "          element.innerHTML = '';\n",
              "          dataTable['output_type'] = 'display_data';\n",
              "          await google.colab.output.renderOutput(dataTable, element);\n",
              "          const docLink = document.createElement('div');\n",
              "          docLink.innerHTML = docLinkHtml;\n",
              "          element.appendChild(docLink);\n",
              "        }\n",
              "      </script>\n",
              "    </div>\n",
              "  </div>\n",
              "  "
            ]
          },
          "metadata": {},
          "execution_count": 11
        }
      ]
    },
    {
      "cell_type": "code",
      "source": [
        "y_train.describe()"
      ],
      "metadata": {
        "colab": {
          "base_uri": "https://localhost:8080/"
        },
        "id": "IwJCSUzen4bK",
        "outputId": "45537f6c-f976-407c-a288-db7d3e36d175"
      },
      "execution_count": 12,
      "outputs": [
        {
          "output_type": "execute_result",
          "data": {
            "text/plain": [
              "count    6243.000000\n",
              "mean        0.000552\n",
              "std         0.000923\n",
              "min         0.000000\n",
              "25%         0.000016\n",
              "50%         0.000128\n",
              "75%         0.000711\n",
              "max         0.008148\n",
              "Name: da/dN, dtype: float64"
            ]
          },
          "metadata": {},
          "execution_count": 12
        }
      ]
    },
    {
      "cell_type": "code",
      "source": [],
      "metadata": {
        "id": "sUcKmr0PUWDy"
      },
      "execution_count": 12,
      "outputs": []
    },
    {
      "cell_type": "markdown",
      "source": [
        "### Feature Scaling"
      ],
      "metadata": {
        "id": "v_7g6b9BUXfZ"
      }
    },
    {
      "cell_type": "markdown",
      "source": [
        "Feature scaling becomes helpful in obtaining the convergence **faster** in case of Gradient Descent faster. In this project, I have used the StandardScaler method from sklearn library."
      ],
      "metadata": {
        "id": "RmquznSbUe0B"
      }
    },
    {
      "cell_type": "code",
      "source": [
        "from sklearn.preprocessing import StandardScaler\n",
        "scaler = StandardScaler()\n",
        "scaler.fit(X_train)\n",
        "scaled_X_train = scaler.transform(X_train)  # returns np array"
      ],
      "metadata": {
        "id": "MFxn5tTYUXLK"
      },
      "execution_count": 13,
      "outputs": []
    },
    {
      "cell_type": "code",
      "source": [
        "# Converting the numpy array obtained above to dataframe.\n",
        "scaled_X_train_df = pd.DataFrame(scaled_X_train)"
      ],
      "metadata": {
        "id": "hGEpN4XtVFmI"
      },
      "execution_count": 14,
      "outputs": []
    },
    {
      "cell_type": "markdown",
      "source": [
        "A linear fit to the dataset results in poor model performance. Hence, a combination of Polynomial regression and Ridge regression is used."
      ],
      "metadata": {
        "id": "XATy8ZKTVSHz"
      }
    },
    {
      "cell_type": "markdown",
      "source": [
        "### Polynomial Regression with Ridge Regression"
      ],
      "metadata": {
        "id": "Cwb9KqBZprMo"
      }
    },
    {
      "cell_type": "markdown",
      "source": [
        "A linear fit to the dataset will result in poor model performance. Hence, a combination of Polynomial regression and Ridge regression is used.\n",
        "\n",
        "For getting r2_score value as high as possible, model tuning was performed for various combinations of degree of polynomial and the regularization parameter. The results are shown below as an image. The excel file for the same has also been attached in the google classroom.\n",
        "![Screenshot 2022-10-21 222918.png](data:image/png;base64,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)"
      ],
      "metadata": {
        "id": "fCjZMYEdVnv9"
      }
    },
    {
      "cell_type": "markdown",
      "source": [
        "After analysing from the results of model tuning, the **degree of the polynomial is selected as 8 and regularization parameter (lambda) equal to 0.0001.**\n",
        "\n",
        "Reason:-\n",
        "1.   Increasing the degree of the polynomial will increase the computation time, and may also not generalize well (high variance) on the test set.\n",
        "2.   Decreasing the degree of the polynomial may lead to high bias, thereby resulting in low value of r2_score."
      ],
      "metadata": {
        "id": "aCyasHDUc1IH"
      }
    },
    {
      "cell_type": "code",
      "source": [
        "from sklearn.preprocessing import PolynomialFeatures\n",
        "from sklearn.pipeline import Pipeline\n",
        "from sklearn import linear_model"
      ],
      "metadata": {
        "id": "RoICI4vhpd4O"
      },
      "execution_count": 15,
      "outputs": []
    },
    {
      "cell_type": "code",
      "source": [
        "pr_model = Pipeline([(\"poly\", PolynomialFeatures(degree=8)), (\"ridge\", linear_model.Ridge(alpha=0.0001))])"
      ],
      "metadata": {
        "id": "jM3a9txMpu_3"
      },
      "execution_count": 16,
      "outputs": []
    },
    {
      "cell_type": "code",
      "source": [
        "%%time\n",
        "pr_model = pr_model.fit(scaled_X_train_df, y_train)"
      ],
      "metadata": {
        "id": "VdIwhGTop1y1",
        "colab": {
          "base_uri": "https://localhost:8080/"
        },
        "outputId": "e4a20219-4583-4896-f96f-d05675e2279a"
      },
      "execution_count": 17,
      "outputs": [
        {
          "output_type": "stream",
          "name": "stdout",
          "text": [
            "CPU times: user 15.4 ms, sys: 17.8 ms, total: 33.2 ms\n",
            "Wall time: 30.8 ms\n"
          ]
        }
      ]
    },
    {
      "cell_type": "markdown",
      "source": [
        "### Model performance"
      ],
      "metadata": {
        "id": "U4gLK-EPX1FL"
      }
    },
    {
      "cell_type": "code",
      "source": [
        "import sklearn.metrics as metrics"
      ],
      "metadata": {
        "id": "77jwU74YYcRg"
      },
      "execution_count": 18,
      "outputs": []
    },
    {
      "cell_type": "markdown",
      "source": [
        "**Training Data**"
      ],
      "metadata": {
        "id": "lFl7jpOMYBGq"
      }
    },
    {
      "cell_type": "code",
      "source": [
        "# R2_score for training set\n",
        "print(\"R2_score for training set:\", pr_model.score(scaled_X_train_df,y_train))"
      ],
      "metadata": {
        "colab": {
          "base_uri": "https://localhost:8080/"
        },
        "id": "M4muv5oJWS0G",
        "outputId": "5321adb1-47ea-4e1a-edb6-eb07c0c3fd96"
      },
      "execution_count": 19,
      "outputs": [
        {
          "output_type": "stream",
          "name": "stdout",
          "text": [
            "R2_score for training set: 0.9854796256396883\n"
          ]
        }
      ]
    },
    {
      "cell_type": "markdown",
      "source": [
        "**Cross Validation Data**"
      ],
      "metadata": {
        "id": "N_YU_fvvYK0C"
      }
    },
    {
      "cell_type": "code",
      "source": [
        "# R2_score for cross validation set\n",
        "print(\"R2_score for cross-validation set:\", pr_model.score(pd.DataFrame(scaler.transform(X_valid)), y_valid))"
      ],
      "metadata": {
        "colab": {
          "base_uri": "https://localhost:8080/"
        },
        "id": "rjpjOU2CYEWx",
        "outputId": "21aba774-4c9f-4f78-c00a-575ff9aedadd"
      },
      "execution_count": 20,
      "outputs": [
        {
          "output_type": "stream",
          "name": "stdout",
          "text": [
            "R2_score for cross-validation set: 0.9835790923502469\n"
          ]
        }
      ]
    },
    {
      "cell_type": "code",
      "source": [
        "# Generate predictions for the validation set.\n",
        "predictions_val = pr_model.predict(pd.DataFrame(scaler.transform(X_valid)))"
      ],
      "metadata": {
        "id": "TRZmRot8Yplo"
      },
      "execution_count": 21,
      "outputs": []
    },
    {
      "cell_type": "code",
      "source": [
        "# Explained Variance Score - similar to R2 score for validation set.\n",
        "print(metrics.explained_variance_score(y_valid, predictions_val))"
      ],
      "metadata": {
        "id": "qFylz1mBYk17",
        "colab": {
          "base_uri": "https://localhost:8080/"
        },
        "outputId": "681112f2-dbce-4b7c-f263-9bbf9cdea8eb"
      },
      "execution_count": 22,
      "outputs": [
        {
          "output_type": "stream",
          "name": "stdout",
          "text": [
            "0.9835933806626226\n"
          ]
        }
      ]
    },
    {
      "cell_type": "code",
      "source": [
        "# Mean Squared error for the validation set.\n",
        "print(metrics.mean_squared_error(y_valid, predictions_val))"
      ],
      "metadata": {
        "id": "emn3zxWQYtXY",
        "colab": {
          "base_uri": "https://localhost:8080/"
        },
        "outputId": "87bc7460-748c-465a-914b-52b26f046d2a"
      },
      "execution_count": 23,
      "outputs": [
        {
          "output_type": "stream",
          "name": "stdout",
          "text": [
            "1.2377140865844716e-08\n"
          ]
        }
      ]
    },
    {
      "cell_type": "code",
      "source": [],
      "metadata": {
        "id": "D8JWqmmKY3_A"
      },
      "execution_count": 23,
      "outputs": []
    },
    {
      "cell_type": "markdown",
      "source": [
        "**Test Data**"
      ],
      "metadata": {
        "id": "a9JG1_2wY59g"
      }
    },
    {
      "cell_type": "code",
      "source": [
        "# R2_score for test set\n",
        "print(\"R2_score for test set:\", pr_model.score(pd.DataFrame(scaler.transform(X_test)), y_test))"
      ],
      "metadata": {
        "colab": {
          "base_uri": "https://localhost:8080/"
        },
        "id": "ua6PENzQY5qo",
        "outputId": "a6600f4b-fdc8-4745-bd24-072f1d4c1b2b"
      },
      "execution_count": 24,
      "outputs": [
        {
          "output_type": "stream",
          "name": "stdout",
          "text": [
            "R2_score for test set: 0.9831484171822994\n"
          ]
        }
      ]
    },
    {
      "cell_type": "code",
      "source": [
        "# Generate predictions for the test set.\n",
        "test_preds = pr_model.predict(pd.DataFrame(scaler.transform(X_test)))"
      ],
      "metadata": {
        "id": "KgRNXtl4ZHct"
      },
      "execution_count": 25,
      "outputs": []
    },
    {
      "cell_type": "code",
      "source": [
        "# Explained Variance Score - similar to R2 score for test set.\n",
        "print(metrics.explained_variance_score(y_test, test_preds))"
      ],
      "metadata": {
        "colab": {
          "base_uri": "https://localhost:8080/"
        },
        "id": "JO0gMhR1ZPIv",
        "outputId": "fbd2dfef-2ef7-4f41-94e0-28714eb3f035"
      },
      "execution_count": 26,
      "outputs": [
        {
          "output_type": "stream",
          "name": "stdout",
          "text": [
            "0.9831506229605055\n"
          ]
        }
      ]
    },
    {
      "cell_type": "code",
      "source": [
        "# Mean Squared error for the test set.\n",
        "print(metrics.mean_squared_error(y_test, test_preds))"
      ],
      "metadata": {
        "colab": {
          "base_uri": "https://localhost:8080/"
        },
        "id": "-X-Hx4NnZVNn",
        "outputId": "dedd55ba-4aa5-49f4-83e6-8c60cf353e9d"
      },
      "execution_count": 27,
      "outputs": [
        {
          "output_type": "stream",
          "name": "stdout",
          "text": [
            "1.2943254003650997e-08\n"
          ]
        }
      ]
    },
    {
      "cell_type": "code",
      "source": [],
      "metadata": {
        "id": "43eNdZ0VZVjn"
      },
      "execution_count": 27,
      "outputs": []
    },
    {
      "cell_type": "markdown",
      "source": [
        "### Trained model visualization on test set"
      ],
      "metadata": {
        "id": "xY_KUBHzZeAw"
      }
    },
    {
      "cell_type": "code",
      "source": [
        "print(test_preds.shape)"
      ],
      "metadata": {
        "colab": {
          "base_uri": "https://localhost:8080/"
        },
        "id": "WvfO8rBoayMz",
        "outputId": "698074c4-9c9a-4428-aa0e-8802b8fbde8e"
      },
      "execution_count": 28,
      "outputs": [
        {
          "output_type": "stream",
          "name": "stdout",
          "text": [
            "(2082,)\n"
          ]
        }
      ]
    },
    {
      "cell_type": "code",
      "source": [
        "# Generating a numpy array for X axis. The X axis is not related to any of the\n",
        "# parameters from the dataset.\n",
        "tmp_X = np.arange(0,2082,1)"
      ],
      "metadata": {
        "id": "tStiRtPcavVz"
      },
      "execution_count": 29,
      "outputs": []
    },
    {
      "cell_type": "code",
      "source": [
        "fig, axes = plt.subplots()\n",
        "fig.set_figheight(12)\n",
        "fig.set_figwidth(12)\n",
        "axes.plot(tmp_X, y_test, \"r-\", label=\"Test Set labels\")\n",
        "axes.plot(tmp_X, test_preds, \"g-\", label=\"ML Model fit\")\n",
        "axes.set_title(\"Trained model visualization on test set\", fontdict={\"fontsize\":\"xx-large\"})\n",
        "axes.set_facecolor(\"#F5F5F5\")\n",
        "axes.legend(facecolor=\"#D3D3D3\")\n",
        "plt.show()"
      ],
      "metadata": {
        "colab": {
          "base_uri": "https://localhost:8080/",
          "height": 720
        },
        "id": "gtUzwra9qp8z",
        "outputId": "f8123b46-7a30-40e2-a9fe-29564a78c2a5"
      },
      "execution_count": 30,
      "outputs": [
        {
          "output_type": "display_data",
          "data": {
            "text/plain": [
              "<Figure size 864x864 with 1 Axes>"
            ],
            "image/png": "[encoded data removed]"
          },
          "metadata": {
            "needs_background": "light"
          }
        }
      ]
    },
    {
      "cell_type": "code",
      "source": [],
      "metadata": {
        "id": "IV5Tvi-9rQH6"
      },
      "execution_count": 30,
      "outputs": []
    }
  ]
}